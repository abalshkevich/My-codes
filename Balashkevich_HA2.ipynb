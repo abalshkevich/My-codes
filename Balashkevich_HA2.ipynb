{
 "cells": [
  {
   "cell_type": "code",
   "execution_count": 2,
   "metadata": {},
   "outputs": [],
   "source": [
    "import math\n",
    "from math import prod\n",
    "import numpy as np\n"
   ]
  },
  {
   "cell_type": "markdown",
   "metadata": {},
   "source": [
    "Problem 1"
   ]
  },
  {
   "cell_type": "markdown",
   "metadata": {},
   "source": [
    "1.1"
   ]
  },
  {
   "cell_type": "code",
   "execution_count": 3,
   "metadata": {},
   "outputs": [],
   "source": [
    "class figure:\n",
    "    def __init__(self, x0, y0):\n",
    "        self.x_axis = x0\n",
    "        self.y_axis = y0\n",
    "\n",
    "    def center_distance(self, x, y):\n",
    "        self.point_x_axis = x\n",
    "        self.point_y_axis = y\n",
    "        return math.sqrt((self.point_x_axis - self.x_axis)**2 + (self.point_y_axis-self.y_axis)**2)\n"
   ]
  },
  {
   "cell_type": "code",
   "execution_count": 4,
   "metadata": {},
   "outputs": [
    {
     "name": "stdout",
     "output_type": "stream",
     "text": [
      "1 0\n"
     ]
    }
   ],
   "source": [
    "fig = figure(1,0)\n",
    "print(fig.x_axis, fig.y_axis)"
   ]
  },
  {
   "cell_type": "markdown",
   "metadata": {},
   "source": [
    "1.2"
   ]
  },
  {
   "cell_type": "code",
   "execution_count": 5,
   "metadata": {},
   "outputs": [],
   "source": [
    "class rectangle(figure):\n",
    "    def __init__ (self, x0, y0, len, wid):\n",
    "        super(rectangle, self).__init__(x0, y0)\n",
    "        self.length = len\n",
    "        self.width = wid\n",
    "\n",
    "    def area(self):\n",
    "        return self.length*self.width\n",
    "    \n",
    "    def perimeter(self):\n",
    "        return self.width*2 + self.length *2"
   ]
  },
  {
   "cell_type": "code",
   "execution_count": 6,
   "metadata": {},
   "outputs": [
    {
     "name": "stdout",
     "output_type": "stream",
     "text": [
      "The area is 15\n",
      "The perimeter is 16\n",
      "The distance from center of the figure to the point is 10.63014581273465\n"
     ]
    }
   ],
   "source": [
    "rect = rectangle(2,3,3,5)\n",
    "print (\"The area is\", rect.area())\n",
    "print (\"The perimeter is\", rect.perimeter())\n",
    "print(\"The distance from center of the figure to the point is\", rect.center_distance(10,10))\n"
   ]
  },
  {
   "cell_type": "code",
   "execution_count": 7,
   "metadata": {},
   "outputs": [],
   "source": [
    "class circle(figure):\n",
    "    def __init__ (self, x0, y0, rad):\n",
    "        super(circle, self).__init__(x0, y0)\n",
    "        self.radius = rad\n",
    "\n",
    "    def area(self):\n",
    "        return self.radius**2 * math.pi\n",
    "    \n",
    "    def perimeter(self):\n",
    "        return math.pi * 2*self.radius"
   ]
  },
  {
   "cell_type": "code",
   "execution_count": 8,
   "metadata": {},
   "outputs": [
    {
     "name": "stdout",
     "output_type": "stream",
     "text": [
      "The area is 50.26548245743669\n",
      "The perimeter is 25.132741228718345\n",
      "The distance from center of the figure to the point is 7.0710678118654755\n"
     ]
    }
   ],
   "source": [
    "circ = circle(5,5,4)\n",
    "print (\"The area is\", circ.area())\n",
    "print (\"The perimeter is\", circ.perimeter())\n",
    "print(\"The distance from center of the figure to the point is\", circ.center_distance(10,10))"
   ]
  },
  {
   "cell_type": "markdown",
   "metadata": {},
   "source": [
    "Problem 2."
   ]
  },
  {
   "cell_type": "markdown",
   "metadata": {},
   "source": [
    "2.1"
   ]
  },
  {
   "cell_type": "code",
   "execution_count": 9,
   "metadata": {},
   "outputs": [],
   "source": [
    "class forward:\n",
    "    def __init__(self,strike,maturity_in_months):\n",
    "        self.strike = strike\n",
    "        self.maturity = maturity_in_months*30\n",
    "\n",
    "    def payoff(self, s0, u, d, r):\n",
    "        self.s0 = s0\n",
    "        self.u = u\n",
    "        self.d = d\n",
    "        self.r = r\n",
    "        x = [np.random.choice([1+u, 1+d], p = [(self.r/360 - self.d)/(self.u-self.d), 1-(self.r/360 - self.d)/(self.u-self.d)]) for _ in range (self.maturity)]\n",
    "        st = s0 * prod(x)\n",
    "        return st - self.strike"
   ]
  },
  {
   "cell_type": "code",
   "execution_count": 10,
   "metadata": {},
   "outputs": [
    {
     "name": "stdout",
     "output_type": "stream",
     "text": [
      "The forward payoff would be -11.45621358000784\n"
     ]
    }
   ],
   "source": [
    "fwd = forward(110, 3)\n",
    "print (\"The forward payoff would be\", fwd.payoff(100, 0.01, -0.006, 0.07))"
   ]
  },
  {
   "cell_type": "markdown",
   "metadata": {},
   "source": [
    "2.2\n"
   ]
  },
  {
   "cell_type": "code",
   "execution_count": 11,
   "metadata": {},
   "outputs": [],
   "source": [
    "class pricer(forward):\n",
    "    def __init__(self, strike, maturity_in_months):\n",
    "        super(pricer, self).__init__(strike, maturity_in_months)\n",
    "    "
   ]
  },
  {
   "cell_type": "code",
   "execution_count": 22,
   "metadata": {},
   "outputs": [],
   "source": [
    "class analytic_pricer(pricer):\n",
    "    def __init__(self, strike, maturity_in_months, s0, r):\n",
    "        super(analytic_pricer, self).__init__(strike, maturity_in_months)\n",
    "        self.s0 = s0\n",
    "        self.r = r\n",
    "    \n",
    "    def price(self):\n",
    "        return self.s0 - self.strike*math.exp(-self.r*self.maturity/360)"
   ]
  },
  {
   "cell_type": "code",
   "execution_count": 23,
   "metadata": {},
   "outputs": [
    {
     "name": "stdout",
     "output_type": "stream",
     "text": [
      "The forward analytic price is -8.091745923158058\n"
     ]
    }
   ],
   "source": [
    "an_pricer = analytic_pricer(110, 3, 100, 0.07)\n",
    "print(\"The forward analytic price is\", an_pricer.price())"
   ]
  },
  {
   "cell_type": "code",
   "execution_count": 24,
   "metadata": {},
   "outputs": [],
   "source": [
    "class mc_pricer(pricer):\n",
    "    def __init__(self, strike, maturity_in_months, n_paths):\n",
    "        super(mc_pricer, self).__init__(strike, maturity_in_months)\n",
    "        self.n_paths = n_paths\n",
    "\n",
    "    def price(self, s0, u, d, r):\n",
    "        self.s0 = s0\n",
    "        self.u = u\n",
    "        self.d = d\n",
    "        self.r = r\n",
    "        \n",
    "        st = []\n",
    "        for i in range(self.n_paths):\n",
    "            np.random.seed(i)\n",
    "            x = [np.random.choice([1+u, 1+d], p = [(self.r/360 - self.d)/(self.u-self.d), 1-(self.r/360 - self.d)/(self.u-self.d)]) for _ in range (self.maturity)]\n",
    "            st.append(s0*prod(x))\n",
    "            payoffs = [s - self.strike for s in st]\n",
    "            discounted_payoffs = [math.exp(-self.r*self.maturity/360)*payoff for payoff in payoffs]\n",
    "        return np.mean(discounted_payoffs)\n"
   ]
  },
  {
   "cell_type": "code",
   "execution_count": 25,
   "metadata": {},
   "outputs": [
    {
     "name": "stdout",
     "output_type": "stream",
     "text": [
      "Monte Carlo method price is -7.975711505983198\n"
     ]
    }
   ],
   "source": [
    "m_pricer = mc_pricer(110, 3, 1000)\n",
    "print(\"Monte Carlo method price is\", m_pricer.price(100, 0.01, -0.006, 0.07))\n",
    "\n",
    "\n"
   ]
  },
  {
   "cell_type": "markdown",
   "metadata": {},
   "source": [
    "$$\n",
    "E(\\frac{S_T - K}{e^{rT}}) = \\frac{1}{e^{rT}}E(S_0*X_1*...*X_T) - \\frac{K}{e^{rT}} = \\frac{S_0}{e^{rT}}E(X_1)*...*E(X_T) - \\frac{K}{e^{rT}} = \\frac{S_0}{e^{rT}} \\prod^T_{i=1}{E(X_i)} - \\frac{K}{e^{rT}}=\\\\\n",
    "= \\frac{S_0}{e^{rT}} \\prod^T_{i=1} {\\frac{(1+u)(r-d)}{u-d} + (1+d)(1-\\frac{r - d}{u-d})} - \\frac{K}{e^{rT}} = \\frac{S_0}{e^{rT}} \\prod^T_{i=1} {\\frac{(1+u)(r-d)}{u-d} + \\frac{(1+d)(u-r)}{u-d}} - \\frac{K}{e^{rT}} = \\frac{S_0}{e^{rT}} \\prod^T_{i=1} {\\frac{r+ur-d-ud + u+ud-r-rd}{u-d}} - \\frac{K}{e^{rT}}=\\\\\n",
    "= \\frac{S_0}{e^{rT}} \\prod^T_{i=1} {\\frac{u(r+1)-d(r+1)}{u-d}} - \\frac{K}{e^{rT}} = \\frac{S_0}{e^{rT}} \\prod^T_{i=1} {r+1} - \\frac{K}{e^{rT}} = \\frac{S_0}{e^{rT}} (r+1)^T - \\frac{K}{e^{rT}} = \\frac{S_0}{e^{rT}} e^{rT} - \\frac{K}{e^{rT}} = S_0 - \\frac{K}{e^{rT}}\n",
    "$$\n",
    "Since $(r+1)^T \\overset{T \\rightarrow \\infty}{\\longrightarrow} e^{rT}$"
   ]
  },
  {
   "cell_type": "markdown",
   "metadata": {},
   "source": []
  }
 ],
 "metadata": {
  "kernelspec": {
   "display_name": "Python 3.10.6 64-bit",
   "language": "python",
   "name": "python3"
  },
  "language_info": {
   "codemirror_mode": {
    "name": "ipython",
    "version": 3
   },
   "file_extension": ".py",
   "mimetype": "text/x-python",
   "name": "python",
   "nbconvert_exporter": "python",
   "pygments_lexer": "ipython3",
   "version": "3.10.6"
  },
  "orig_nbformat": 4,
  "vscode": {
   "interpreter": {
    "hash": "b0fa6594d8f4cbf19f97940f81e996739fb7646882a419484c72d19e05852a7e"
   }
  }
 },
 "nbformat": 4,
 "nbformat_minor": 2
}
